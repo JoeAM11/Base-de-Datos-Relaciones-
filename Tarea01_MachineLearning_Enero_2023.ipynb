{
  "nbformat": 4,
  "nbformat_minor": 0,
  "metadata": {
    "colab": {
      "provenance": [],
      "authorship_tag": "ABX9TyO9qgsqa4KUI+Vve0luqFrc",
      "include_colab_link": true
    },
    "kernelspec": {
      "name": "python3",
      "display_name": "Python 3"
    },
    "language_info": {
      "name": "python"
    }
  },
  "cells": [
    {
      "cell_type": "markdown",
      "metadata": {
        "id": "view-in-github",
        "colab_type": "text"
      },
      "source": [
        "<a href=\"https://colab.research.google.com/github/JoeAM11/Base-de-Datos-Relaciones-/blob/master/Tarea01_MachineLearning_Enero_2023.ipynb\" target=\"_parent\"><img src=\"https://colab.research.google.com/assets/colab-badge.svg\" alt=\"Open In Colab\"/></a>"
      ]
    },
    {
      "cell_type": "code",
      "source": [
        "Prueba Comit 1 \n"
      ],
      "metadata": {
        "id": "JwSRAerqqHLe"
      },
      "execution_count": null,
      "outputs": []
    }
  ]
}