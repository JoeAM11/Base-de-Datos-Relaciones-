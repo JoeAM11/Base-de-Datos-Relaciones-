{
  "nbformat": 4,
  "nbformat_minor": 0,
  "metadata": {
    "colab": {
      "provenance": [],
      "authorship_tag": "ABX9TyNXSdL/ddVVQPcUfYYbJ0WL",
      "include_colab_link": true
    },
    "kernelspec": {
      "name": "python3",
      "display_name": "Python 3"
    },
    "language_info": {
      "name": "python"
    }
  },
  "cells": [
    {
      "cell_type": "markdown",
      "metadata": {
        "id": "view-in-github",
        "colab_type": "text"
      },
      "source": [
        "<a href=\"https://colab.research.google.com/github/JoeAM11/Base-de-Datos-Relaciones-/blob/master/Tarea02_ML_Enero_PandasBasics_2023.ipynb\" target=\"_parent\"><img src=\"https://colab.research.google.com/assets/colab-badge.svg\" alt=\"Open In Colab\"/></a>"
      ]
    },
    {
      "cell_type": "markdown",
      "source": [
        "🤖 📓\n",
        "# Tarea #02\n",
        "#### Nombre :Joel Alejandro Rodarte Rivera \n",
        "#### Matrícula: 2173260\n",
        "\n",
        "El siguiente cuaderno contiene:\n",
        "*   Crear, modificar y eliminar columnas\n",
        "*   Filtrar registros\n",
        "*   Crear subconjuntos de datos\n",
        "*   Crear grupos de datos\n",
        "\n",
        "Además de el contenido anterior, se incluyen algunas otras funciónes y opcónes descubiertas mientras se realizó esta tarea. \n",
        "\n",
        "Este fue el primer uso que le doy a la biblioteca de Pandas. Si bien la presente tarea cumple con los objetivos de la misma, considero que aún hay espacio para crecimiento en el orden, limpieza , elegancia y eficiencia para obtener los mismos resultados o mejores. \n",
        "\n"
      ],
      "metadata": {
        "id": "lLqvSt0Tli8K"
      }
    },
    {
      "cell_type": "markdown",
      "source": [
        "# Importar dataframe y funciónes generales"
      ],
      "metadata": {
        "id": "oVphxgu8nPHq"
      }
    },
    {
      "cell_type": "code",
      "execution_count": null,
      "metadata": {
        "id": "atepwfIEq5gI"
      },
      "outputs": [],
      "source": [
        "! git clone https://github.com/JoeAM11/MachineLearning_EM23.git\n",
        "import pandas as pd\n",
        "df = pd.read_csv('/content/MachineLearning_EM23/Testing.csv') #Importar el csv desde mi repositorio en Guthub"
      ]
    },
    {
      "cell_type": "code",
      "source": [
        "df.shape #Entender dimension de la matriz, en este caso 42 luineas y 133 columnas"
      ],
      "metadata": {
        "id": "NbKQ7vAk1m8C"
      },
      "execution_count": null,
      "outputs": []
    },
    {
      "cell_type": "code",
      "source": [
        "pd.set_option('display.max_columns', 10)\n",
        "pd.set_option('display.max_rows', 10) #Para evitar que me trunque informacióno o que no despliegue tanta, segun sea necesario "
      ],
      "metadata": {
        "id": "qZUi1XITEfrd"
      },
      "execution_count": null,
      "outputs": []
    },
    {
      "cell_type": "code",
      "source": [
        "df.head() #solo mostrar las primeras 5 lineas con el objetivo de entender como está estructurada la data frame."
      ],
      "metadata": {
        "id": "1x4ClShPxuvn"
      },
      "execution_count": null,
      "outputs": []
    },
    {
      "cell_type": "code",
      "source": [
        "df.tail() #El inverso de head, mostrar las últimas 5 líneas"
      ],
      "metadata": {
        "id": "gGyBbK-C17-Q"
      },
      "execution_count": null,
      "outputs": []
    },
    {
      "cell_type": "code",
      "source": [
        "df[0:10] #Lo mismo que head pero con lineas especificadas por usuario. En este caso imprimiendo renglos 0 a 9 "
      ],
      "metadata": {
        "id": "74ryvb0U2IjJ"
      },
      "execution_count": null,
      "outputs": []
    },
    {
      "cell_type": "code",
      "source": [
        "df.columns #Imprimir el nombre de las columans del data frame"
      ],
      "metadata": {
        "id": "rYYdLBbu2mC1"
      },
      "execution_count": null,
      "outputs": []
    },
    {
      "cell_type": "markdown",
      "source": [
        "# Crear, modificar y eliminar columnas"
      ],
      "metadata": {
        "id": "dSOkS8J9nIKG"
      }
    },
    {
      "cell_type": "code",
      "source": [
        "df.columns = [x.upper() for x in df.columns] #Transformar todas los nombres de las columnas a upper case \n",
        "df"
      ],
      "metadata": {
        "id": "plQufEFfHE0V"
      },
      "execution_count": null,
      "outputs": []
    },
    {
      "cell_type": "code",
      "source": [
        "df.rename(columns={\"PROGNOSIS\":\"ILLNESS\"},inplace=True) #cambiar el nombre de algo que no es de vocabulario comuna un más fácil de comprender \n",
        "df"
      ],
      "metadata": {
        "id": "hw8xPMDRI8w6"
      },
      "execution_count": null,
      "outputs": []
    },
    {
      "cell_type": "code",
      "source": [
        "df.drop(\"NODAL_SKIN_ERUPTIONS\",axis=1) #Remover toda una columna. Axis = 1 las columnas "
      ],
      "metadata": {
        "id": "sbWm_YKlebfq"
      },
      "execution_count": null,
      "outputs": []
    },
    {
      "cell_type": "code",
      "source": [
        "df.drop([\"NODAL_SKIN_ERUPTIONS\",\"CONTINUOUS_SNEEZING\"],axis=1) #remover varias columans a la vez "
      ],
      "metadata": {
        "id": "qpNd_naTe_0_"
      },
      "execution_count": null,
      "outputs": []
    },
    {
      "cell_type": "code",
      "source": [
        "import random  \n",
        "x = random.randint(0,1)\n",
        "df[\"NEW_SYMPTOM\"] = x\n",
        "df #nueva columna añadida al final y con un valor random entre 0 y 1. "
      ],
      "metadata": {
        "id": "YJozQWn5gEv0"
      },
      "execution_count": null,
      "outputs": []
    },
    {
      "cell_type": "code",
      "source": [
        "df = df.replace({0:1, 1:0}) #Suponiendo que hubo un error en la logica para saber si el sítnoma esta presento o no, quiero modificar los 0 por 1 y los 1 por 0. \n",
        "print(df)"
      ],
      "metadata": {
        "id": "kGH7ncJvgmPq"
      },
      "execution_count": null,
      "outputs": []
    },
    {
      "cell_type": "markdown",
      "source": [
        "# Filtrar registros\n"
      ],
      "metadata": {
        "id": "9gt5lPLmnZo-"
      }
    },
    {
      "cell_type": "code",
      "source": [
        "df.columns = [x.lower() for x in df.columns] #Transformar todas los nombres de las columnas a upper case \n",
        "df"
      ],
      "metadata": {
        "id": "ZRRcE4D_quIW"
      },
      "execution_count": null,
      "outputs": []
    },
    {
      "cell_type": "code",
      "source": [
        "df['itching'] #Solo sacar una columna con algun nombre en especifico "
      ],
      "metadata": {
        "id": "XYXpZUpEyyx2"
      },
      "execution_count": null,
      "outputs": []
    },
    {
      "cell_type": "code",
      "source": [
        "df[[\"illness\",\"itching\"]] #Imprimir dos columnas que yo quiera / Me respeta el orden en que se las pido"
      ],
      "metadata": {
        "id": "qYwpbKWf3Aq8"
      },
      "execution_count": null,
      "outputs": []
    },
    {
      "cell_type": "code",
      "source": [
        "df['itching'].count() #Contar el numero de inputs"
      ],
      "metadata": {
        "id": "JRUEunxz3kWZ"
      },
      "execution_count": null,
      "outputs": []
    },
    {
      "cell_type": "code",
      "source": [
        "df['itching'].max() "
      ],
      "metadata": {
        "id": "ghHrjyCg5EyD"
      },
      "execution_count": null,
      "outputs": []
    },
    {
      "cell_type": "code",
      "source": [
        "df['itching'].mean()"
      ],
      "metadata": {
        "id": "Ybxj5C_r5Erw"
      },
      "execution_count": null,
      "outputs": []
    },
    {
      "cell_type": "code",
      "source": [
        "df[\"itching\"].std()"
      ],
      "metadata": {
        "id": "2hMMNqwA5SFQ"
      },
      "execution_count": null,
      "outputs": []
    },
    {
      "cell_type": "code",
      "source": [
        "df[:].describe() #Estadística descriptiva de todas las columnas "
      ],
      "metadata": {
        "id": "LFkSSRgY5X2D"
      },
      "execution_count": null,
      "outputs": []
    },
    {
      "cell_type": "code",
      "source": [
        "df[df.itching==0] #todas las lineas en donde el sítnoma de itching NO esté presente"
      ],
      "metadata": {
        "id": "RVvm9NQV5vrN"
      },
      "execution_count": null,
      "outputs": []
    },
    {
      "cell_type": "code",
      "source": [
        "df['illness'][df.itching==0] #Lista de todos los enfermedades que tienen como síntoma itching"
      ],
      "metadata": {
        "id": "wVxpVy2a6R2N"
      },
      "execution_count": null,
      "outputs": []
    },
    {
      "cell_type": "code",
      "source": [
        "df['illness'][df.itching==0].count() #Contar la canitdad de enfermedades que tiene como síntoma itching."
      ],
      "metadata": {
        "id": "rwQ5j7J-7FO_"
      },
      "execution_count": null,
      "outputs": []
    },
    {
      "cell_type": "code",
      "source": [
        "df.columns = [x.upper() for x in df.columns] #Transformar todas los nombres de las columnas a upper case \n",
        "df"
      ],
      "metadata": {
        "id": "rzcm5-krrOx1"
      },
      "execution_count": null,
      "outputs": []
    },
    {
      "cell_type": "code",
      "source": [
        "df[df[\"ITCHING\"]==1] # Filtrar sin necesidad de utilizar una función "
      ],
      "metadata": {
        "id": "gJCufwMfTTfQ"
      },
      "execution_count": null,
      "outputs": []
    },
    {
      "cell_type": "code",
      "source": [
        "df.loc[0:0,] #Sacar solo un renglon con todas sus columnas "
      ],
      "metadata": {
        "id": "2mBCG-muK9qc"
      },
      "execution_count": null,
      "outputs": []
    },
    {
      "cell_type": "code",
      "source": [
        "df.loc[:,[\"NODAL_SKIN_ERUPTIONS\",\"ILLNESS\"]] #Sacar todas los renglones de una columna o varias "
      ],
      "metadata": {
        "id": "CFGI0HDkMGl1"
      },
      "execution_count": null,
      "outputs": []
    },
    {
      "cell_type": "code",
      "source": [
        "df.loc[df.ITCHING==1,\"ILLNESS\"] #Encontrar todas los renglones que si tengan ITCHING como sintoma y lo relacione con su enfermedad"
      ],
      "metadata": {
        "id": "IwsLfixCOp4e"
      },
      "execution_count": null,
      "outputs": []
    },
    {
      "cell_type": "code",
      "source": [
        "filtro = (df.ITCHING==1) & (df.SKIN_RASH==1) #Condicional and para poner dos filtros \n",
        "df.loc[filtro,\"ILLNESS\"]  #Encontrar todas las enfermedades que si tenagan itching y skin rash"
      ],
      "metadata": {
        "id": "Pk1DSw28S5Qp"
      },
      "execution_count": null,
      "outputs": []
    },
    {
      "cell_type": "code",
      "source": [
        "filtro = (df.ITCHING==1) & (df.SKIN_RASH==1) \n",
        "df.loc[~filtro,\"ILLNESS\"] #Lo mismo que el anterior pero con la información inversa "
      ],
      "metadata": {
        "id": "p6zUJoHccCPl"
      },
      "execution_count": null,
      "outputs": []
    },
    {
      "cell_type": "code",
      "source": [
        "df.query(\"ITCHING==1 & SKIN_RASH==1\") #Otro método para realizarlo"
      ],
      "metadata": {
        "id": "wW7ZbEEFdfTt"
      },
      "execution_count": null,
      "outputs": []
    },
    {
      "cell_type": "markdown",
      "source": [
        "# Crear subconjunto de datos "
      ],
      "metadata": {
        "id": "As0skxmEtF-V"
      }
    },
    {
      "cell_type": "code",
      "source": [
        "df2 = df[[\"SKIN_RASH\",\"ITCHING\",\"NODAL_SKIN_ERUPTIONS\"]]\n",
        "df2"
      ],
      "metadata": {
        "id": "pWpTvz2Hk53V"
      },
      "execution_count": null,
      "outputs": []
    },
    {
      "cell_type": "markdown",
      "source": [
        "# Crear grupos de datos"
      ],
      "metadata": {
        "id": "M9CvJAWSnmRs"
      }
    },
    {
      "cell_type": "code",
      "source": [
        "group_skin_rash = df.groupby(\"SKIN_RASH\") #Hacer dos grupos de informacion en mis datos filtrados por los que tengan y no tengan skin rash. "
      ],
      "metadata": {
        "id": "PBe2SGFL7-iX"
      },
      "execution_count": null,
      "outputs": []
    },
    {
      "cell_type": "code",
      "source": [
        "for skin_rash in group_skin_rash: \n",
        "  print(skin_rash)  #Imprimir los dos sets de grupos de informacion que tengo guardados en group_skin_rash"
      ],
      "metadata": {
        "id": "s4PE4iYc-ot2"
      },
      "execution_count": null,
      "outputs": []
    },
    {
      "cell_type": "code",
      "source": [
        "group_skin_rash.get_group(1)#Obtener el df de mi grupo que SI tiene skin rash como síntoma. En este caso solo hay 8 enfermedades que NO lo tienen"
      ],
      "metadata": {
        "id": "M0dJ45wR_ecE"
      },
      "execution_count": null,
      "outputs": []
    },
    {
      "cell_type": "markdown",
      "source": [
        "# Ideas futuro 22/01/03\n",
        "\n",
        "* De una enfermedad, que me regrese todas las columnas que tienen 1. \n",
        "  * Para entender cuales son todos los síntomas de una enfermedad\n",
        "\n",
        "* Encontrar el sintomas mas comun \n",
        "  * La columna que tenga el promedio más alto debe ser el más común dado sólo \n",
        "tengo valores 0s y 1s \n",
        "\n",
        "* Mover la columna de illness al inicio puesto que lo veo más conveniente que al final. \n",
        "\n"
      ],
      "metadata": {
        "id": "-kVZ_ImMubQV"
      }
    }
  ]
}